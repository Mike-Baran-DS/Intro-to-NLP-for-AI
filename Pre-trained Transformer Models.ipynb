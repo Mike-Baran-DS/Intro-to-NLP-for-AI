{
 "cells": [
  {
   "cell_type": "code",
   "execution_count": 4,
   "metadata": {},
   "outputs": [],
   "source": [
    "sentence_1 = \"I had a great time at the movie it was reallly funny\"\n",
    "sentence_2 = \"I had a great time at the movie but the parking was terrible\"\n",
    "sentence_3 = \"I had a great time a the movie but the parking wasn't great\"\n",
    "sentence_4 = \"I went to see a movie\"\n",
    "\n",
    "# List of sentences\n",
    "sentences = [sentence_1, sentence_2, sentence_3, sentence_4]"
   ]
  },
  {
   "cell_type": "markdown",
   "metadata": {},
   "source": [
    "### Pre-trained Transformer"
   ]
  },
  {
   "cell_type": "code",
   "execution_count": 5,
   "metadata": {},
   "outputs": [],
   "source": [
    "import transformers\n",
    "from transformers import pipeline"
   ]
  },
  {
   "cell_type": "code",
   "execution_count": null,
   "metadata": {},
   "outputs": [
    {
     "name": "stderr",
     "output_type": "stream",
     "text": [
      "No model was supplied, defaulted to distilbert/distilbert-base-uncased-finetuned-sst-2-english and revision 714eb0f (https://huggingface.co/distilbert/distilbert-base-uncased-finetuned-sst-2-english).\n",
      "Using a pipeline without specifying a model name and revision in production is not recommended.\n",
      "Device set to use cpu\n"
     ]
    }
   ],
   "source": [
    "# Initialize a pre-trained transformer pipeline for sentiment analysis\n",
    "sentiment_pipeline = pipeline(\"sentiment-analysis\")\n",
    "# The default more is selected by default because we did not specify a model"
   ]
  },
  {
   "cell_type": "code",
   "execution_count": null,
   "metadata": {},
   "outputs": [
    {
     "name": "stdout",
     "output_type": "stream",
     "text": [
      "Sentence 1: I had a great time at the movie it was reallly funny\n",
      "Label: POSITIVE, Score: 0.9998\n",
      "Sentence 2: I had a great time at the movie but the parking was terrible\n",
      "Label: NEGATIVE, Score: 0.9977\n",
      "Sentence 3: I had a great time a the movie but the parking wasn't great\n",
      "Label: NEGATIVE, Score: 0.9980\n",
      "Sentence 4: I went to see a movie\n",
      "Label: POSITIVE, Score: 0.9803\n"
     ]
    }
   ],
   "source": [
    "# Loop through each sentence and get sentiment predictions\n",
    "for i, sentence in enumerate(sentences, start=1):\n",
    "    result = sentiment_pipeline(sentence)[0]\n",
    "    print(f\"Sentence {i}: {sentence}\")\n",
    "    print(f\"Label: {result['label']}, Score: {result['score']:.4f}\")\n",
    "\n",
    "# Scores represent confidence, not intensity\n",
    "# Sentence 4 is incorrectly classified as negative instead of neutral\n"
   ]
  },
  {
   "cell_type": "code",
   "execution_count": 8,
   "metadata": {},
   "outputs": [
    {
     "data": {
      "application/vnd.jupyter.widget-view+json": {
       "model_id": "7c8d7338da9e4a96b66a4b6ef4719ce8",
       "version_major": 2,
       "version_minor": 0
      },
      "text/plain": [
       "config.json:   0%|          | 0.00/949 [00:00<?, ?B/s]"
      ]
     },
     "metadata": {},
     "output_type": "display_data"
    },
    {
     "name": "stderr",
     "output_type": "stream",
     "text": [
      "C:\\Users\\mikebaran\\AppData\\Roaming\\Python\\Python310\\site-packages\\huggingface_hub\\file_download.py:142: UserWarning: `huggingface_hub` cache-system uses symlinks by default to efficiently store duplicated files but your machine does not support them in C:\\Users\\mikebaran\\.cache\\huggingface\\hub\\models--finiteautomata--bertweet-base-sentiment-analysis. Caching files will still work but in a degraded version that might require more space on your disk. This warning can be disabled by setting the `HF_HUB_DISABLE_SYMLINKS_WARNING` environment variable. For more details, see https://huggingface.co/docs/huggingface_hub/how-to-cache#limitations.\n",
      "To support symlinks on Windows, you either need to activate Developer Mode or to run Python as an administrator. In order to activate developer mode, see this article: https://docs.microsoft.com/en-us/windows/apps/get-started/enable-your-device-for-development\n",
      "  warnings.warn(message)\n"
     ]
    },
    {
     "data": {
      "application/vnd.jupyter.widget-view+json": {
       "model_id": "11464ed482ca47cba2381bec67ca846b",
       "version_major": 2,
       "version_minor": 0
      },
      "text/plain": [
       "pytorch_model.bin:   0%|          | 0.00/540M [00:00<?, ?B/s]"
      ]
     },
     "metadata": {},
     "output_type": "display_data"
    },
    {
     "data": {
      "application/vnd.jupyter.widget-view+json": {
       "model_id": "38be1af174ca45b88d91db853722ee75",
       "version_major": 2,
       "version_minor": 0
      },
      "text/plain": [
       "tokenizer_config.json:   0%|          | 0.00/338 [00:00<?, ?B/s]"
      ]
     },
     "metadata": {},
     "output_type": "display_data"
    },
    {
     "data": {
      "application/vnd.jupyter.widget-view+json": {
       "model_id": "0d771213f00e4b3f86eda02d8e5880ad",
       "version_major": 2,
       "version_minor": 0
      },
      "text/plain": [
       "vocab.txt:   0%|          | 0.00/843k [00:00<?, ?B/s]"
      ]
     },
     "metadata": {},
     "output_type": "display_data"
    },
    {
     "data": {
      "application/vnd.jupyter.widget-view+json": {
       "model_id": "79c2aeee66434227aa87f25d7efd6e96",
       "version_major": 2,
       "version_minor": 0
      },
      "text/plain": [
       "model.safetensors:   0%|          | 0.00/540M [00:00<?, ?B/s]"
      ]
     },
     "metadata": {},
     "output_type": "display_data"
    },
    {
     "data": {
      "application/vnd.jupyter.widget-view+json": {
       "model_id": "870e0eff2f7b4192a38e5b6a46b756cc",
       "version_major": 2,
       "version_minor": 0
      },
      "text/plain": [
       "bpe.codes:   0%|          | 0.00/1.08M [00:00<?, ?B/s]"
      ]
     },
     "metadata": {},
     "output_type": "display_data"
    },
    {
     "data": {
      "application/vnd.jupyter.widget-view+json": {
       "model_id": "950396cef5bf4505bf2777751a0c0562",
       "version_major": 2,
       "version_minor": 0
      },
      "text/plain": [
       "added_tokens.json:   0%|          | 0.00/22.0 [00:00<?, ?B/s]"
      ]
     },
     "metadata": {},
     "output_type": "display_data"
    },
    {
     "data": {
      "application/vnd.jupyter.widget-view+json": {
       "model_id": "1c4c8fffed6e4fd990e0fede98079c70",
       "version_major": 2,
       "version_minor": 0
      },
      "text/plain": [
       "special_tokens_map.json:   0%|          | 0.00/167 [00:00<?, ?B/s]"
      ]
     },
     "metadata": {},
     "output_type": "display_data"
    },
    {
     "name": "stderr",
     "output_type": "stream",
     "text": [
      "Device set to use cpu\n"
     ]
    }
   ],
   "source": [
    "# Using a model that has specifically been trained on tweets\n",
    "specific_model = pipeline(\"sentiment-analysis\", model = \"finiteautomata/bertweet-base-sentiment-analysis\")\n",
    "# Many other models are available on the transformers website"
   ]
  },
  {
   "cell_type": "code",
   "execution_count": null,
   "metadata": {},
   "outputs": [
    {
     "name": "stdout",
     "output_type": "stream",
     "text": [
      "Sentence 1: I had a great time at the movie it was reallly funny\n",
      "Label: POS, Score: 0.9925\n",
      "\n",
      "Sentence 2: I had a great time at the movie but the parking was terrible\n",
      "Label: NEG, Score: 0.5145\n",
      "\n",
      "Sentence 3: I had a great time a the movie but the parking wasn't great\n",
      "Label: POS, Score: 0.6709\n",
      "\n",
      "Sentence 4: I went to see a movie\n",
      "Label: NEU, Score: 0.9021\n",
      "\n"
     ]
    }
   ],
   "source": [
    "# Loop through sentences and compute sentiment scores using the specified BERTweet model\n",
    "for i, sentence in enumerate(sentences, start=1):\n",
    "    result = specific_model(sentence)[0]\n",
    "    print(f\"Sentence {i}: {sentence}\")\n",
    "    print(f\"Label: {result['label']}, Score: {result['score']:.4f}\\n\")\n",
    "# Better results this time.  Sentence 4 is correctly scored as neutral.\n"
   ]
  },
  {
   "cell_type": "code",
   "execution_count": null,
   "metadata": {},
   "outputs": [],
   "source": []
  }
 ],
 "metadata": {
  "kernelspec": {
   "display_name": "langchain_env",
   "language": "python",
   "name": "langchain_env"
  },
  "language_info": {
   "codemirror_mode": {
    "name": "ipython",
    "version": 3
   },
   "file_extension": ".py",
   "mimetype": "text/x-python",
   "name": "python",
   "nbconvert_exporter": "python",
   "pygments_lexer": "ipython3",
   "version": "3.10.10"
  }
 },
 "nbformat": 4,
 "nbformat_minor": 2
}
