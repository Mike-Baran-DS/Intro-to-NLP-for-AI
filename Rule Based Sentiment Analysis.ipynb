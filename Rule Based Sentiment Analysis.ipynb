{
 "cells": [
  {
   "cell_type": "code",
   "execution_count": 3,
   "metadata": {},
   "outputs": [],
   "source": [
    "sentence_1 = \"I had a great time at the movie it was reallly funny\"\n",
    "sentence_2 = \"I had a great time at the movie but the parking was terrible\"\n",
    "sentence_3 = \"I had a great time a the movie but the parking wasn't great\"\n",
    "sentence_4 = \"I went to see a movie\""
   ]
  },
  {
   "cell_type": "markdown",
   "metadata": {},
   "source": [
    "### TextBlob"
   ]
  },
  {
   "cell_type": "code",
   "execution_count": 4,
   "metadata": {},
   "outputs": [],
   "source": [
    "from textblob import TextBlob"
   ]
  },
  {
   "cell_type": "code",
   "execution_count": null,
   "metadata": {},
   "outputs": [
    {
     "name": "stdout",
     "output_type": "stream",
     "text": [
      "Sentence 1: I had a great time at the movie it was reallly funny\n",
      "Sentiment score: 0.525\n",
      "Sentence 2: I had a great time at the movie but the parking was terrible\n",
      "Sentiment score: -0.09999999999999998\n",
      "Sentence 3: I had a great time a the movie but the parking wasn't great\n",
      "Sentiment score: 0.8\n",
      "Sentence 4: I went to see a movie\n",
      "Sentiment score: 0.0\n"
     ]
    }
   ],
   "source": [
    "# Computing sentiment scores\n",
    "# Scores range from -1 (extremely negative) to +1 (extremely positive)\n",
    "\n",
    "# List of sentences\n",
    "sentences = [sentence_1, sentence_2, sentence_3, sentence_4]\n",
    "\n",
    "# Loop through each sentence and compute sentiment scores\n",
    "for i, sentence in enumerate(sentences, start=1):\n",
    "    print(f\"Sentence {i}: {sentence}\")\n",
    "    sentiment_score = TextBlob(sentence).sentiment.polarity\n",
    "    print(f\"Sentiment score: {sentiment_score}\")\n",
    "\n"
   ]
  },
  {
   "cell_type": "markdown",
   "metadata": {},
   "source": [
    "### VADER"
   ]
  },
  {
   "cell_type": "code",
   "execution_count": 6,
   "metadata": {},
   "outputs": [],
   "source": [
    "from vaderSentiment.vaderSentiment import SentimentIntensityAnalyzer"
   ]
  },
  {
   "cell_type": "markdown",
   "metadata": {},
   "source": []
  },
  {
   "cell_type": "code",
   "execution_count": 8,
   "metadata": {},
   "outputs": [],
   "source": [
    "# Initiate the sentiment intensity analyzer, and name it vader_sentiment\n",
    "vader_sentiment = SentimentIntensityAnalyzer()"
   ]
  },
  {
   "cell_type": "code",
   "execution_count": 11,
   "metadata": {},
   "outputs": [
    {
     "name": "stdout",
     "output_type": "stream",
     "text": [
      "Sentence 1: I had a great time at the movie it was reallly funny\n",
      "Negative: 0.0, Neutral: 0.588, Positive: 0.412, Compound: 0.7906\n",
      "Sentence 2: I had a great time at the movie but the parking was terrible\n",
      "Negative: 0.234, Neutral: 0.621, Positive: 0.144, Compound: -0.3818\n",
      "Sentence 3: I had a great time a the movie but the parking wasn't great\n",
      "Negative: 0.247, Neutral: 0.611, Positive: 0.142, Compound: -0.4387\n",
      "Sentence 4: I went to see a movie\n",
      "Negative: 0.0, Neutral: 1.0, Positive: 0.0, Compound: 0.0\n"
     ]
    }
   ],
   "source": [
    "# Loop through each sentence and compute VADER sentiment scores\n",
    "for i, sentence in enumerate(sentences, start=1):\n",
    "    print(f\"Sentence {i}: {sentence}\")\n",
    "    scores = vader_sentiment.polarity_scores(sentence)\n",
    "    print(f\"Negative: {scores['neg']}, Neutral: {scores['neu']}, Positive: {scores['pos']}, Compound: {scores['compound']}\")\n"
   ]
  },
  {
   "cell_type": "code",
   "execution_count": null,
   "metadata": {},
   "outputs": [],
   "source": []
  }
 ],
 "metadata": {
  "kernelspec": {
   "display_name": "langchain_env",
   "language": "python",
   "name": "langchain_env"
  },
  "language_info": {
   "codemirror_mode": {
    "name": "ipython",
    "version": 3
   },
   "file_extension": ".py",
   "mimetype": "text/x-python",
   "name": "python",
   "nbconvert_exporter": "python",
   "pygments_lexer": "ipython3",
   "version": "3.10.10"
  }
 },
 "nbformat": 4,
 "nbformat_minor": 2
}
